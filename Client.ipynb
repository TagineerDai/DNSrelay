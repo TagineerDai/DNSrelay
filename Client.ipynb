{
 "cells": [
  {
   "cell_type": "code",
   "execution_count": null,
   "metadata": {
    "collapsed": true
   },
   "outputs": [],
   "source": [
    "# the client code from micktwomey\n",
    "\n",
    "# with settimeout() \n",
    "# discussed in stackoverflow How-to-set-timeout-on-python's-socket-recv-method\n",
    "# This time out recv() most of the time, but there is a race condition.\n",
    "# the accept also throws time out, thus the recv and settimeout should be adjcent.\n",
    "\n",
    "import socket\n",
    "import time\n",
    "\n",
    "sock = socket.socket(socket.AF_INET, socket.SOCK_DGRAM)\n",
    "sock.connect((\"localhost\", 9000))\n",
    "\n",
    "data = \"some data\"\n",
    "print time.ctime(), \"Starting\"\n",
    "sock.sendall(data)\n",
    "\n",
    "sock.settimeout(5.0)\n",
    "result = sock.recv(1024) #buffer size\n",
    "sock.settimeout(None)\n",
    "\n",
    "print result\n",
    "print time.ctime(), \"Ending\" \n",
    "\n",
    "sock.close()"
   ]
  }
 ],
 "metadata": {
  "kernelspec": {
   "display_name": "Python 2",
   "language": "python",
   "name": "python2"
  },
  "language_info": {
   "codemirror_mode": {
    "name": "ipython",
    "version": 2
   },
   "file_extension": ".py",
   "mimetype": "text/x-python",
   "name": "python",
   "nbconvert_exporter": "python",
   "pygments_lexer": "ipython2",
   "version": "2.7.12"
  }
 },
 "nbformat": 4,
 "nbformat_minor": 0
}
