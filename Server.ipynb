{
 "cells": [
  {
   "cell_type": "code",
   "execution_count": 1,
   "metadata": {
    "collapsed": true
   },
   "outputs": [],
   "source": [
    "# the server code from micktwomey\n",
    "import multiprocessing\n",
    "import socket"
   ]
  },
  {
   "cell_type": "code",
   "execution_count": 2,
   "metadata": {
    "collapsed": true
   },
   "outputs": [],
   "source": [
    "def handle(connection, address):\n",
    "    import logging\n",
    "    logging.basicConfig(level=logging.DEBUG)\n",
    "    logger = logging.getLogger(\"process-%r\" % (address, ))\n",
    "    # like the logger\n",
    "    try:\n",
    "        logger.debug(\"Connected %r at %r\", connection, address)\n",
    "        while True:\n",
    "            data = connection.recv(1024)\n",
    "            if data == \"\":\n",
    "                logger.debug(\"Socket closed remotely\")\n",
    "                break\n",
    "            logger.debug(\"Received data %r\", data)\n",
    "            connection.sendall(data)\n",
    "            logger.debug(\"Send data\")\n",
    "    except:\n",
    "        logger.exception(\"Problem handling request\")\n",
    "    finally:\n",
    "        logger.debug(\"Closing socket\")\n",
    "        connection.close()\n"
   ]
  },
  {
   "cell_type": "code",
   "execution_count": 3,
   "metadata": {
    "collapsed": true
   },
   "outputs": [],
   "source": [
    "class Server(object): \n",
    "    def __init__(self, hostname, port):\n",
    "        import logging\n",
    "        self.logger = logging.getLogger(\"Server\")\n",
    "        self.hostname = hostname\n",
    "        self.port = port\n",
    "    def start(self):\n",
    "        self.logger.debug(\"Listening\")\n",
    "        self.socket = socket.socket(socket.AF_INET, socket.SOCK_DGRAM)\n",
    "        self.socket = bind((self.hostname, self.port))\n",
    "        self.socket.listen(1)\n",
    "        while True:\n",
    "            conn, address = self.socket.accept()\n",
    "            self.logger.debug(\"Got connection\")\n",
    "            process = multiprocessing.Process(target=handle, args=(conn, address))\n",
    "            process.daemon = True\n",
    "            process.start()\n",
    "            self.logger.debug(\"Started process %r\", process)"
   ]
  },
  {
   "cell_type": "code",
   "execution_count": 4,
   "metadata": {
    "collapsed": true
   },
   "outputs": [],
   "source": [
    "if __name__ == \"__main__\":\n",
    "    import logging\n",
    "    logging.basicConfig(level=logging.DEBUG)\n",
    "    server = Server(\"0.0.0.0\", 9000)\n",
    "    try: \n",
    "        logging.info(\"Listening\")\n",
    "        server.start()\n",
    "    except:\n",
    "        logging.exception(\"Unexpected exception\")\n",
    "    finally:\n",
    "        logging.info(\"Shutting down\")\n",
    "        for process in multiprocessing.active_children():\n",
    "            logging.info(\"Shutting down process %r\", process)\n",
    "            process.terminate()\n",
    "            process.join()\n",
    "    logging.info(\"All done\")"
   ]
  },
  {
   "cell_type": "code",
   "execution_count": 5,
   "metadata": {
    "collapsed": true
   },
   "outputs": [],
   "source": [
    "import logging\n",
    "logging.basicConfig(level=logging.DEBUG)\n",
    "server = Server(\"0.0.0.0\", 9000)\n",
    "try: \n",
    "    logging.info(\"Listening\")\n",
    "    server.start()\n",
    "except:\n",
    "    logging.exception(\"Unexpected exception\")\n",
    "finally:\n",
    "    logging.info(\"Shutting down\")\n",
    "    for process in multiprocessing.active_children():\n",
    "        logging.info(\"Shutting down process %r\", process)\n",
    "        process.terminate()\n",
    "        process.join()\n",
    "logging.info(\"All done\")"
   ]
  },
  {
   "cell_type": "code",
   "execution_count": null,
   "metadata": {
    "collapsed": true
   },
   "outputs": [],
   "source": []
  }
 ],
 "metadata": {
  "kernelspec": {
   "display_name": "Python 2",
   "language": "python",
   "name": "python2"
  },
  "language_info": {
   "codemirror_mode": {
    "name": "ipython",
    "version": 2
   },
   "file_extension": ".py",
   "mimetype": "text/x-python",
   "name": "python",
   "nbconvert_exporter": "python",
   "pygments_lexer": "ipython2",
   "version": "2.7.12"
  }
 },
 "nbformat": 4,
 "nbformat_minor": 0
}
