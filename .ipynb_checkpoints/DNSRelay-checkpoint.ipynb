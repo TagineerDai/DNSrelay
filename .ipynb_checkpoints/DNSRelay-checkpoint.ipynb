{
 "cells": [
  {
   "cell_type": "code",
   "execution_count": 156,
   "metadata": {
    "collapsed": false
   },
   "outputs": [],
   "source": [
    "import threading\n",
    "from socket import *\n",
    "import os"
   ]
  },
  {
   "cell_type": "code",
   "execution_count": 161,
   "metadata": {
    "collapsed": false
   },
   "outputs": [],
   "source": [
    "ForeignIP = \"10.3.9.4\"\n",
    "ForeignPort = 53\n",
    "LocalIP = ''\n",
    "LocalPort = 53\n",
    "CacheSize = 200\n",
    "BufferSize = 512\n",
    "DNSFile = \"dnsrelay.txt\"\n",
    "LDT = 600 #second"
   ]
  },
  {
   "cell_type": "code",
   "execution_count": null,
   "metadata": {
    "collapsed": true
   },
   "outputs": [],
   "source": [
    "from optparse import OptionParser\n",
    "def arg_parser():\n",
    "    \"\"\"The config argument parser for DNS relay program.\"\"\"\n",
    "    global DNSFile, LDT, CacheSize, BufferSize\n",
    "    try:\n",
    "        opt = OptionParser()\n",
    "        opt.add_option('-f', dest='DNSFile',type='string',default='dnsrelay.txt',help='DNSFile')\n",
    "        opt.add_option('-t', dest='LDT',type='int',default=600,help='DwellingTime')\n",
    "        opt.add_option('-c', dest='CacheSize',type='int',default=200,help='CacheSize')\n",
    "        opt.add_option('-b', dest='BufferSize',type='int',default=512,help='BufferSize')\n",
    "        (options, args) = opt.parse_args()\n",
    "        is_valid_paras = True\n",
    "        error = []\n",
    "        if not os.path.exists(DNSFile):\n",
    "            error.append(\"The DNSFile is not exist\")\n",
    "            is_valid_paras = False\n",
    "        if LDT < 0 or CacheSize < 0 or BufferSize < 1:\n",
    "            error.append(\"Invalid parameter.\")\n",
    "            is_valid_paras = False\n",
    "        if is_valid_paras:\n",
    "            return True;\n",
    "        else:\n",
    "            for msg in error:\n",
    "                print msg\n",
    "            opt.print_help()\n",
    "            return False\n",
    "    except Exception as ex:\n",
    "        print(\"Exception :{0}\".format(str(ex)))\n",
    "    return False"
   ]
  },
  {
   "cell_type": "code",
   "execution_count": 151,
   "metadata": {
    "collapsed": false
   },
   "outputs": [],
   "source": [
    "class net():\n",
    "    #AF_INET IPv4 | AF_INET6 IPv6 | AF_NUIX LINUX\n",
    "    #SOCK_DGRAM udp | SOCK_STREAM tcp\n",
    "    foreign = socket.socket(socket.AF_INET, socket.SOCK_DGRAM)\n",
    "    client = socket.socket(socket.AF_INET, socket.SOCK_DGRAM)\n",
    "    foraddr = (ForeignIP, ForeignPort)\n",
    "    def cltaddr(_LocalIP):\n",
    "        return (_LocalIP, LocalPort)"
   ]
  },
  {
   "cell_type": "code",
   "execution_count": 134,
   "metadata": {
    "collapsed": false
   },
   "outputs": [],
   "source": [
    "from BTrees.OOBTree import OOBTree\n",
    "\n",
    "class rec_file:\n",
    "    \"\"\"DNSrelay dict[DomainName | IPAddress] with BTree.\"\"\"\n",
    "    data = OOBTree()\n",
    "    path = \"dnsrelay.txt\" #default\n",
    "    \n",
    "    def __init__(self, _path):\n",
    "        self.path = _path\n",
    "        recordfile = open(self.path,'r')\n",
    "        for l in recordfile:\n",
    "            record = l.split(' ')\n",
    "            self.data.update({record[1][0:-1].lower():record[0]})\n",
    "        recordfile.close()\n",
    "        print \"Loaded \"+str(len(self.data))+\" records in.\"\n",
    "        recordfile.close()\n",
    "        return\n",
    "    \n",
    "    def save(self, dumpfilename):\n",
    "        dumpfile = open(dumpfilename,'w')\n",
    "        for pair in self.data.iteritems():\n",
    "            dumpfile.write(pair[1]+' '+pair[0]+'\\n')\n",
    "        dumpfile.close()\n",
    "    \n",
    "    def exist(self, DomainName):\n",
    "        if DomainName.lower() in self.data:\n",
    "            return True\n",
    "        return False\n",
    "    \n",
    "    def get(self, _DomainName):\n",
    "        DomainName = _DomainName.lower()\n",
    "        if self.exist(DomainName):\n",
    "            return self.data.get(DomainName)\n",
    "        return None\n",
    "    \n",
    "    def add_rec(self, _DomainName, IP):\n",
    "        import re\n",
    "        DomainName = _DomainName.lower()\n",
    "        domainNamePattern = re.compile(r'[a-zA-Z0-9][-a-zA-Z0-9]{0,62}(/.[a-zA-Z0-9][-a-zA-Z0-9]{0,62})+/.?')\n",
    "        ipPattern = re.compile(r'((25[0-5])|(2[0-4]/d)|(1/d/d)|([1-9]/d)|/d)(/.((25[0-5])|(2[0-4]/d)|(1/d/d)|([1-9]/d)|/d)){3}')                           \n",
    "        domainNameMatch = domainNamePattern.match(DomainName)\n",
    "        ipMatch = ipPattern.match(IP)\n",
    "        if domainNameMatch and ipMatch:\n",
    "            self.data.update({DomainName:IP})\n",
    "        else:\n",
    "            print \"Invalid domain name or IP\"\n",
    "            \n",
    "    def del_dom(self, _DomainName):\n",
    "        DomainName = _DomainName.lower()\n",
    "        if self.exist(DomainName):\n",
    "            self.data.__delitem__(DomainName)\n",
    "    def print_all(self):\n",
    "        DomainNames = list(self.data)\n",
    "        IPs = list(self.data.values())\n",
    "        ans = []\n",
    "        for i in xrange(len(self.data)):\n",
    "            ans.append(IPs[i] + ' ' + DomainNames[i])\n",
    "            #print ans[i]\n",
    "        return ans"
   ]
  },
  {
   "cell_type": "code",
   "execution_count": 137,
   "metadata": {
    "collapsed": false
   },
   "outputs": [],
   "source": [
    "class rec_cache:\n",
    "    \"\"\"Cache[DomainName | IPAddress | Time] with BTree.\"\"\"\n",
    "    data = OOBTree()\n",
    "    time = OOBTree()\n",
    "    size = 200 # default cache size\n",
    "    LDT = 3600\n",
    "    def __init__(self,_CacheSize, _LDT):\n",
    "        self.size = _CacheSize\n",
    "        self.LDT = _LDT\n",
    "        print \"Initial the new cache, capactity: \"+str(self.size)\n",
    "\n",
    "    def add_rec(self, _DomainName, IP):\n",
    "        DomainName = _DomainName.lower()\n",
    "        self.data.update({DomainName:IP})\n",
    "        self.time.update({DomainName:0})\n",
    "        #TODO IP&REG validation\n",
    "    \n",
    "    def update(self):\n",
    "        for DomainName in self.time.keys():\n",
    "            if self.time[DomainName] > self.LT:\n",
    "                self.time.__delitem__(DomainName)\n",
    "                self.data.__delitem__(DomainName)\n",
    "            time[k] = time[k]+1\n",
    "    \n",
    "    def exist(self, DomainName):\n",
    "        if DomainName.lower() in self.data:\n",
    "            return True\n",
    "        return False\n",
    "    \n",
    "    def get(self, _DomainName):\n",
    "        DomainName = _DomainName.lower()\n",
    "        if self.exist(DomainName):\n",
    "            self.time.update({DomainName:0})\n",
    "            return self.data.get(DomainName)\n",
    "        return None\n",
    "    \n",
    "    def del_dom(self, _DomainName):\n",
    "        DomainName = _DomainName.lower()\n",
    "        if self.exist(DomainName):\n",
    "            self.data.__delitem__(DomainName)\n",
    "            \n",
    "    def print_all(self):\n",
    "        DomainNames = list(self.data)\n",
    "        IPs = list(self.data.values())\n",
    "        ans = []\n",
    "        for i in xrange(len(self.data)):\n",
    "            ans.append(IPs[i] + ' ' + DomainNames[i])\n",
    "            #print ans[i]\n",
    "        return ans"
   ]
  },
  {
   "cell_type": "code",
   "execution_count": null,
   "metadata": {
    "collapsed": true
   },
   "outputs": [],
   "source": [
    "def make_q_frame(DomainName):\n",
    "    \"\"\"Make Frame\"\"\"\n",
    "    # TODO\n",
    "    return msg\n",
    "def query(data, DomainName, clientIP):\n",
    "    \"\"\"blocking wait thread task\"\"\"\n",
    "    net.foreign.sendto(data, net.foraddr)\n",
    "    ans = False\n",
    "    while not ans:\n",
    "        try:\n",
    "            recvData, recvAddr = sock.recvfrom(2048)\n",
    "            print \"get from foreign: \", recvData, recvAddr\n",
    "            ans = True\n",
    "        except:\n",
    "            print \"No reply from the foreign server.\"\n",
    "    \n",
    "    dnsCache(recvData,DomainName)\n",
    "    #save the response to rec_cache\n",
    "    \n",
    "    net.client.sendto(recvData, net.cltaddr(clientIP))\n",
    "    # Don't have to make reply frame\n",
    "    \n",
    "    print \"response to client: \", recvData, net.cltaddr(clientIP)"
   ]
  },
  {
   "cell_type": "code",
   "execution_count": 140,
   "metadata": {
    "collapsed": true
   },
   "outputs": [],
   "source": [
    "def multi_query(URL, cIP)\n",
    "    \"\"\"multi-thread\"\"\"\n",
    "    threading.Thread(target=query, args=(make_q_frame(URL), URL, cIP)).start()"
   ]
  },
  {
   "cell_type": "code",
   "execution_count": 168,
   "metadata": {
    "collapsed": false
   },
   "outputs": [
    {
     "name": "stdout",
     "output_type": "stream",
     "text": [
      "Loaded 202 records in.\n",
      "Initial the new cache, capactity: 200\n",
      "Goodbye~\n"
     ]
    }
   ],
   "source": [
    "def main():\n",
    "    if not arg_parser():\n",
    "        print \"arg_parser -- Unsuccesfully parsered argument.\"\n",
    "        return     \n",
    "    record = rec_file(DNSFile) \n",
    "    cache = rec_cache(CacheSize, LDT)\n",
    "    \n",
    "    conn = socket(AF_INET, SOCK_DGRAM)\n",
    "    conn.bind(('127.0.0.1', 1053)) \n",
    "    # 53 was listened by other program, and that's why error 99 exists\n",
    "    \n",
    "    client = [] # ip\n",
    "    \n",
    "    record.save(\"dump01.txt\")\n",
    "    print \"Goodbye~\"\n",
    "    return\n",
    "main()"
   ]
  },
  {
   "cell_type": "code",
   "execution_count": null,
   "metadata": {
    "collapsed": false
   },
   "outputs": [],
   "source": [
    "from SocketServer import ThreadingUDPServer, BaseRequestHandler\n",
    "# socketserver in python 3\n",
    "import time\n",
    "# Server side\n",
    "class DNSHandler(BaseRequestHandler):\n",
    "    \"\"\"\n",
    "    self.request consists of a pair of data and \n",
    "    client socket, there is no connection, the \n",
    "    client address must be given explicitly when\n",
    "    sending data back via send to()\"\"\"\n",
    "    def handle(self):\n",
    "        msg, socket = self.request\n",
    "        print \"{} worte:\".format(self.client_address),\n",
    "        print self.request[1]\n",
    "        resp = time.ctime()\n",
    "        socket.sendto(resp.encode('ascii'), self.client_address)\n",
    "\n",
    "HOST, PORT = \"localhost\", 9990\n",
    "server = ThreadingUDPServer((HOST, PORT), DNSHandler)\n",
    "server.serve_forever()      \n",
    "# how could I drop the bind of Host@Port ?"
   ]
  },
  {
   "cell_type": "code",
   "execution_count": null,
   "metadata": {
    "collapsed": true
   },
   "outputs": [],
   "source": [
    "# client python terminal\n",
    "# from socket import socket, AF_INET, SOCK_DGRAM\n",
    "# s = socket(AF_INET, SOCK_DGRAM)\n",
    "# s.sendto(b'',('localhost', 9998))\n",
    "# s.recvfrom(8192)"
   ]
  },
  {
   "cell_type": "code",
   "execution_count": 17,
   "metadata": {
    "collapsed": false
   },
   "outputs": [
    {
     "ename": "KeyboardInterrupt",
     "evalue": "",
     "output_type": "error",
     "traceback": [
      "\u001b[1;31m-------------------------------------------------------------\u001b[0m",
      "\u001b[1;31mKeyboardInterrupt\u001b[0m           Traceback (most recent call last)",
      "\u001b[1;32m<ipython-input-17-4812a324ff2b>\u001b[0m in \u001b[0;36m<module>\u001b[1;34m()\u001b[0m\n\u001b[0;32m     10\u001b[0m \u001b[1;31m# Instead, data is directly send to the recipient via sendto()\u001b[0m\u001b[1;33m\u001b[0m\u001b[1;33m\u001b[0m\u001b[0m\n\u001b[0;32m     11\u001b[0m \u001b[0msock\u001b[0m\u001b[1;33m.\u001b[0m\u001b[0msendto\u001b[0m\u001b[1;33m(\u001b[0m\u001b[0mdata\u001b[0m \u001b[1;33m+\u001b[0m \u001b[1;34m\"\\n\"\u001b[0m\u001b[1;33m,\u001b[0m \u001b[1;33m(\u001b[0m\u001b[0mHOST\u001b[0m\u001b[1;33m,\u001b[0m \u001b[0mPORT\u001b[0m\u001b[1;33m)\u001b[0m\u001b[1;33m)\u001b[0m\u001b[1;33m\u001b[0m\u001b[0m\n\u001b[1;32m---> 12\u001b[1;33m \u001b[0mreceived\u001b[0m \u001b[1;33m=\u001b[0m \u001b[0msock\u001b[0m\u001b[1;33m.\u001b[0m\u001b[0mrecv\u001b[0m\u001b[1;33m(\u001b[0m\u001b[1;36m1024\u001b[0m\u001b[1;33m)\u001b[0m\u001b[1;33m\u001b[0m\u001b[0m\n\u001b[0m\u001b[0;32m     13\u001b[0m \u001b[1;33m\u001b[0m\u001b[0m\n\u001b[0;32m     14\u001b[0m \u001b[1;32mprint\u001b[0m \u001b[1;34m\"Sent:     {}\"\u001b[0m\u001b[1;33m.\u001b[0m\u001b[0mformat\u001b[0m\u001b[1;33m(\u001b[0m\u001b[0mdata\u001b[0m\u001b[1;33m)\u001b[0m\u001b[1;33m\u001b[0m\u001b[0m\n",
      "\u001b[1;31mKeyboardInterrupt\u001b[0m: "
     ]
    }
   ],
   "source": [
    "import socket\n",
    "# import sys\n",
    "HOST, PORT = \"localhost\", 9997\n",
    "data = \" \".join(\"hehehe\")\n",
    "\n",
    "# SOCK_DGRAM is the socket type for UDP sockets\n",
    "sock = socket.socket(socket.AF_INET, socket.SOCK_DGRAM)\n",
    "\n",
    "# As you can see, there is no connect() call; UDP has no connections. \n",
    "# Instead, data is directly send to the recipient via sendto()\n",
    "sock.sendto(data + \"\\n\", (HOST, PORT))\n",
    "received = sock.recv(1024)\n",
    "\n",
    "print \"Sent:     {}\".format(data)\n",
    "print \"Received: {}\".format(received)"
   ]
  },
  {
   "cell_type": "code",
   "execution_count": null,
   "metadata": {
    "collapsed": true
   },
   "outputs": [],
   "source": []
  }
 ],
 "metadata": {
  "kernelspec": {
   "display_name": "Python 2",
   "language": "python",
   "name": "python2"
  },
  "language_info": {
   "codemirror_mode": {
    "name": "ipython",
    "version": 2
   },
   "file_extension": ".py",
   "mimetype": "text/x-python",
   "name": "python",
   "nbconvert_exporter": "python",
   "pygments_lexer": "ipython2",
   "version": "2.7.13"
  }
 },
 "nbformat": 4,
 "nbformat_minor": 0
}
