{
 "cells": [
  {
   "cell_type": "code",
   "execution_count": null,
   "metadata": {
    "collapsed": true
   },
   "outputs": [],
   "source": [
    "# the client code from micktwomey\n",
    "\n",
    "# with settimeout() \n",
    "# discussed in stackoverflow How-to-set-timeout-on-python's-socket-recv-method\n",
    "# This time out recv() most of the time, but there is a race condition.\n",
    "# the accept also throws time out, thus the recv and settimeout should be adjcent.\n",
    "\n",
    "import socket\n",
    "import time\n",
    "\n",
    "sock = socket.socket(socket.AF_INET, socket.SOCK_DGRAM)\n",
    "sock.connect((\"localhost\", 9000))\n",
    "\n",
    "data = \"some data\"\n",
    "print time.ctime(), \"Starting\"\n",
    "sock.sendall(data)\n",
    "\n",
    "sock.settimeout(5.0)\n",
    "result = sock.recv(1024) #buffer size\n",
    "sock.settimeout(None)\n",
    "\n",
    "print result\n",
    "print time.ctime(), \"Ending\" \n",
    "\n",
    "sock.close()"
   ]
  },
  {
   "cell_type": "code",
   "execution_count": 1,
   "metadata": {
    "collapsed": false
   },
   "outputs": [
    {
     "ename": "NameError",
     "evalue": "global name 'arg_parser' is not defined",
     "output_type": "error",
     "traceback": [
      "\u001b[0;31m---------------------------------------------------------------------------\u001b[0m",
      "\u001b[0;31mNameError\u001b[0m                                 Traceback (most recent call last)",
      "\u001b[0;32m<ipython-input-1-95648377b316>\u001b[0m in \u001b[0;36m<module>\u001b[0;34m()\u001b[0m\n\u001b[1;32m     16\u001b[0m     \u001b[0;32mprint\u001b[0m \u001b[0;34m\"Goodbye~\"\u001b[0m\u001b[0;34m\u001b[0m\u001b[0m\n\u001b[1;32m     17\u001b[0m     \u001b[0;32mreturn\u001b[0m\u001b[0;34m\u001b[0m\u001b[0m\n\u001b[0;32m---> 18\u001b[0;31m \u001b[0mmain\u001b[0m\u001b[0;34m(\u001b[0m\u001b[0;34m)\u001b[0m\u001b[0;34m\u001b[0m\u001b[0m\n\u001b[0m",
      "\u001b[0;32m<ipython-input-1-95648377b316>\u001b[0m in \u001b[0;36mmain\u001b[0;34m()\u001b[0m\n\u001b[1;32m      6\u001b[0m \u001b[0;34m\u001b[0m\u001b[0m\n\u001b[1;32m      7\u001b[0m \u001b[0;32mdef\u001b[0m \u001b[0mmain\u001b[0m\u001b[0;34m(\u001b[0m\u001b[0;34m)\u001b[0m\u001b[0;34m:\u001b[0m\u001b[0;34m\u001b[0m\u001b[0m\n\u001b[0;32m----> 8\u001b[0;31m     \u001b[0;32mif\u001b[0m \u001b[0;32mnot\u001b[0m \u001b[0marg_parser\u001b[0m\u001b[0;34m(\u001b[0m\u001b[0;34m)\u001b[0m\u001b[0;34m:\u001b[0m\u001b[0;34m\u001b[0m\u001b[0m\n\u001b[0m\u001b[1;32m      9\u001b[0m         \u001b[0;32mprint\u001b[0m \u001b[0;34m\"arg_parser -- Unsuccesfully parsered argument.\"\u001b[0m\u001b[0;34m\u001b[0m\u001b[0m\n\u001b[1;32m     10\u001b[0m         \u001b[0;32mreturn\u001b[0m\u001b[0;34m\u001b[0m\u001b[0m\n",
      "\u001b[0;31mNameError\u001b[0m: global name 'arg_parser' is not defined"
     ]
    }
   ],
   "source": [
    "def process(*arg):\n",
    "    print arg\n",
    "\n",
    "ForeignIP = \"localhost\"\n",
    "ForeignPort = 9000\n",
    "\n",
    "def main():\n",
    "    if not arg_parser():\n",
    "        print \"arg_parser -- Unsuccesfully parsered argument.\"\n",
    "        return     \n",
    "    sock = socket.socket(socket.AF_INET, socket.SOCK_DGRAM)\n",
    "    sock.connect((ForeignIP, ForeignPort))\n",
    "    argName, argContent = get_request()\n",
    "    while argName and argName != '-q':\n",
    "        process(argName, argContent)\n",
    "    print \"Goodbye~\"\n",
    "    return\n",
    "main()"
   ]
  },
  {
   "cell_type": "code",
   "execution_count": null,
   "metadata": {
    "collapsed": true
   },
   "outputs": [],
   "source": []
  },
  {
   "cell_type": "code",
   "execution_count": null,
   "metadata": {
    "collapsed": true
   },
   "outputs": [],
   "source": []
  },
  {
   "cell_type": "code",
   "execution_count": null,
   "metadata": {
    "collapsed": true
   },
   "outputs": [],
   "source": [
    "from optparse import OptionParser\n",
    "def arg_parser():\n",
    "    \"\"\"The config argument parser for DNS relay program.\"\"\"\n",
    "    global ForeignIP, ForeignPort\n",
    "    try:\n",
    "        opt = OptionParser()\n",
    "        opt.add_option('-c', dest='ConnectAdd',type='string',default='localhost::9000',)\n",
    "        (options, args) = opt.parse_args()\n",
    "        if is_valid_address(t = ConnectAdd.split(\"::\")):\n",
    "            ForeignIP = t[0]\n",
    "            ForeignPort = t[1]\n",
    "            return True\n",
    "        else:\n",
    "            print \"The connect address is not valid.\"\n",
    "            return False\n",
    "    except Exception as ex:\n",
    "        print(\"Exception :{0}\".format(str(ex)))\n",
    "    return False"
   ]
  },
  {
   "cell_type": "code",
   "execution_count": null,
   "metadata": {
    "collapsed": true
   },
   "outputs": [],
   "source": [
    "def get_request():\n",
    "    \"\"\"Parse the client request.\"\"\"\n",
    "    input = raw_input(\"The available options are listed following:\"\n",
    "                    \"-p <c(cache)|f(file)> : print all the record in cache/file\"\n",
    "                    \"-g <domain name> : get the corresponding IP for this domain name\"\n",
    "                    \"-a <doamin name> <IP> add a record in the DNSrelay list\"\n",
    "                    \"-d <domain name> delete the record from the DNSrelay list\"\n",
    "                    \"-q quit\")\n",
    "    return input.split( )"
   ]
  }
 ],
 "metadata": {
  "kernelspec": {
   "display_name": "Python 2",
   "language": "python",
   "name": "python2"
  },
  "language_info": {
   "codemirror_mode": {
    "name": "ipython",
    "version": 2
   },
   "file_extension": ".py",
   "mimetype": "text/x-python",
   "name": "python",
   "nbconvert_exporter": "python",
   "pygments_lexer": "ipython2",
   "version": "2.7.13"
  }
 },
 "nbformat": 4,
 "nbformat_minor": 0
}
